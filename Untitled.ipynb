{
 "cells": [
  {
   "cell_type": "markdown",
   "id": "d37ffddb",
   "metadata": {},
   "source": [
    "# My Jupyter Notebook on IBM Watson Studio"
   ]
  },
  {
   "cell_type": "markdown",
   "id": "0ee9f5eb",
   "metadata": {},
   "source": [
    "#### Himanshu Vishwakarma"
   ]
  },
  {
   "cell_type": "markdown",
   "id": "d051c186",
   "metadata": {},
   "source": [
    " I am 'Student' and my desired occupation 'Data Scientist'"
   ]
  },
  {
   "cell_type": "markdown",
   "id": "4a2051d2",
   "metadata": {},
   "source": [
    " I am intrested in data-science due to curosity, I want to find hiddent stories behind data which stay unheard"
   ]
  },
  {
   "cell_type": "markdown",
   "id": "6eef6eba",
   "metadata": {},
   "source": [
    "### My code below will show beautiful addtion of two spicy numbers"
   ]
  },
  {
   "cell_type": "code",
   "execution_count": 1,
   "id": "2d359277",
   "metadata": {},
   "outputs": [
    {
     "name": "stdout",
     "output_type": "stream",
     "text": [
      "45\n"
     ]
    }
   ],
   "source": [
    "print(1+2+3+4+5+6+7+8+9)"
   ]
  },
  {
   "cell_type": "markdown",
   "id": "256281fb",
   "metadata": {},
   "source": [
    "--- This was really"
   ]
  },
  {
   "cell_type": "markdown",
   "id": "7144273e",
   "metadata": {},
   "source": [
    "1. Easy"
   ]
  },
  {
   "cell_type": "markdown",
   "id": "051503a4",
   "metadata": {},
   "source": [
    "2. Clear"
   ]
  },
  {
   "cell_type": "markdown",
   "id": "5d18e7c6",
   "metadata": {},
   "source": [
    "3. Simple"
   ]
  },
  {
   "cell_type": "markdown",
   "id": "9ecaf600",
   "metadata": {},
   "source": [
    "4. Fun"
   ]
  },
  {
   "cell_type": "markdown",
   "id": "461ca878",
   "metadata": {},
   "source": [
    "Here's my university logo (hover over to see title text):\n"
   ]
  },
  {
   "cell_type": "code",
   "execution_count": 9,
   "id": "dcc8c996",
   "metadata": {},
   "outputs": [
    {
     "data": {
      "text/html": [
       "<img src=\"https://www.google.com/imgres?imgurl=https%3A%2F%2Fanimationvisarts.com%2Fwp-content%2Fuploads%2F2017%2F05%2Fchandigarh-university-seal-1.png&imgrefurl=https%3A%2F%2Fanimationvisarts.com%2Fchandigarh-university-logo-design-course%2F&tbnid=W64wUCeerE3hLM&vet=12ahUKEwiA7Lr2mLP7AhWCjNgFHQSWAg8QMygEegUIARCkAQ..i&docid=zFZ51gjdnxgjRM&w=480&h=182&q=chandigarh%20university%20png&ved=2ahUKEwiA7Lr2mLP7AhWCjNgFHQSWAg8QMygEegUIARCkAQ\", >\n"
      ],
      "text/plain": [
       "<IPython.core.display.HTML object>"
      ]
     },
     "metadata": {},
     "output_type": "display_data"
    }
   ],
   "source": [
    "%%html\n",
    "<img src=\"https://www.google.com/imgres?imgurl=https%3A%2F%2Fanimationvisarts.com%2Fwp-content%2Fuploads%2F2017%2F05%2Fchandigarh-university-seal-1.png&imgrefurl=https%3A%2F%2Fanimationvisarts.com%2Fchandigarh-university-logo-design-course%2F&tbnid=W64wUCeerE3hLM&vet=12ahUKEwiA7Lr2mLP7AhWCjNgFHQSWAg8QMygEegUIARCkAQ..i&docid=zFZ51gjdnxgjRM&w=480&h=182&q=chandigarh%20university%20png&ved=2ahUKEwiA7Lr2mLP7AhWCjNgFHQSWAg8QMygEegUIARCkAQ\", >"
   ]
  }
 ],
 "metadata": {
  "kernelspec": {
   "display_name": "Python 3 (ipykernel)",
   "language": "python",
   "name": "python3"
  },
  "language_info": {
   "codemirror_mode": {
    "name": "ipython",
    "version": 3
   },
   "file_extension": ".py",
   "mimetype": "text/x-python",
   "name": "python",
   "nbconvert_exporter": "python",
   "pygments_lexer": "ipython3",
   "version": "3.9.13"
  }
 },
 "nbformat": 4,
 "nbformat_minor": 5
}
